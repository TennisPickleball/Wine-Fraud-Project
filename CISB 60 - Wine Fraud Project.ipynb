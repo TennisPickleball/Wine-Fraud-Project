{
 "cells": [
  {
   "cell_type": "markdown",
   "metadata": {},
   "source": [
    "# Fraud Detection In Wine Dataset using SVM with Grid Search and Deep Learning"
   ]
  },
  {
   "cell_type": "code",
   "execution_count": 1,
   "metadata": {},
   "outputs": [],
   "source": [
    "# Edit all the Mardown cells below with the appropriate information \n",
    "# Run all cells, containing your code \n",
    "# Save this Jupyter with the outputs of your executed cells\n",
    "# PS: Save again the notebook with this outcome.\n",
    "# PSPS: Don't forget to include the dataset in your submission"
   ]
  },
  {
   "cell_type": "markdown",
   "metadata": {},
   "source": [
    "**Team:**\n",
    "* Victor Chow\n",
    "\n",
    "**Course:** CISB 60 – ML and DL (Fall, 2024)"
   ]
  },
  {
   "cell_type": "markdown",
   "metadata": {},
   "source": [
    "### Project Description\n",
    "* This project is about applying machine learning methods to detect fraud in wine. This is a classification project where we first train the machine using Support Vector Machines (SVM) with hyperparameter tuning to identify whether an wine is \"Legit\" or \"Fraud\" based on the characteristic of the wine. Then, we will run the data through neural network and compare the result between SVM and nural network using confusion matrix.\n",
    "\n",
    "Dataset Set Description: wine_fraud.csv\n",
    "This dataset includes 13 columns and is from Kaggle.com\n",
    "https://www.kaggle.com/datasets/asmaabdolahpoor/wine-fraud/data\n",
    "It includes the type of wine (red or white) and the quality, that is, the classification of the wine (Legit or Fraud).\n",
    "    \n",
    "    \n",
    "* **Keywords:** Wine Fraud Detection, Wine, SVM, consumer \n",
    "\t"
   ]
  },
  {
   "cell_type": "markdown",
   "metadata": {},
   "source": [
    "### Required packages\n",
    "\n",
    "* Add instructions to install the required packages\n"
   ]
  },
  {
   "cell_type": "code",
   "execution_count": 2,
   "metadata": {},
   "outputs": [],
   "source": [
    "import pandas as pd #for EDA\n",
    "import numpy as np #for EDA\n",
    "import warnings #ignore warning in juypter notebook\n",
    "import seaborn as sns #for visual plot\n",
    "import matplotlib.pyplot as plt #for ploting\n",
    "import tensorflow as tf #for deep learning and using Keras\n",
    "from sklearn.model_selection import train_test_split #for machine learning\n",
    "from sklearn.preprocessing import StandardScaler #for standardize features  \n",
    "from sklearn.svm import SVC #Support Vector Machines\n",
    "from sklearn.model_selection import GridSearchCV #for search for best hyperparmeters\n",
    "from sklearn.metrics import classification_report, confusion_matrix #for metric to mearch perforamnce\n",
    "from tensorflow.keras.models import Sequential #create a linear stack of layers for building neural networsk\n",
    "from tensorflow.keras.layers import Dense, Dropout, Input #for layer types\n",
    "from tensorflow.keras.optimizers import Adam #Adaptive Moment Estimation\n"
   ]
  },
  {
   "cell_type": "markdown",
   "metadata": {},
   "source": [
    "### Methodology\n",
    "\n",
    "1. Explan your ML and DL metodology\n",
    "\n",
    "\n",
    "\n",
    "2. Introduce the topics you used in your project\n",
    " * Model 1\n",
    "    * Support Vector Machine supervised machine learning algorithm for classificaiton. Find the optimal hyperplane that best separate data points of different classes in a high-dimensional space. \n",
    " \n",
    " * Model 2\n",
    "    * Neural Network - computation model inspired by the way biological neural networks in the human brain process information.\n",
    " "
   ]
  },
  {
   "cell_type": "markdown",
   "metadata": {},
   "source": [
    "### Your code starts here"
   ]
  },
  {
   "cell_type": "markdown",
   "metadata": {},
   "source": [
    "Exploratory Data Analysis (EDA)"
   ]
  },
  {
   "cell_type": "code",
   "execution_count": 3,
   "metadata": {},
   "outputs": [
    {
     "data": {
      "text/html": [
       "<div>\n",
       "<style scoped>\n",
       "    .dataframe tbody tr th:only-of-type {\n",
       "        vertical-align: middle;\n",
       "    }\n",
       "\n",
       "    .dataframe tbody tr th {\n",
       "        vertical-align: top;\n",
       "    }\n",
       "\n",
       "    .dataframe thead th {\n",
       "        text-align: right;\n",
       "    }\n",
       "</style>\n",
       "<table border=\"1\" class=\"dataframe\">\n",
       "  <thead>\n",
       "    <tr style=\"text-align: right;\">\n",
       "      <th></th>\n",
       "      <th>fixed acidity</th>\n",
       "      <th>volatile acidity</th>\n",
       "      <th>citric acid</th>\n",
       "      <th>residual sugar</th>\n",
       "      <th>chlorides</th>\n",
       "      <th>free sulfur dioxide</th>\n",
       "      <th>total sulfur dioxide</th>\n",
       "      <th>density</th>\n",
       "      <th>pH</th>\n",
       "      <th>sulphates</th>\n",
       "      <th>alcohol</th>\n",
       "      <th>quality</th>\n",
       "      <th>type</th>\n",
       "    </tr>\n",
       "  </thead>\n",
       "  <tbody>\n",
       "    <tr>\n",
       "      <th>0</th>\n",
       "      <td>7.4</td>\n",
       "      <td>0.70</td>\n",
       "      <td>0.00</td>\n",
       "      <td>1.9</td>\n",
       "      <td>0.076</td>\n",
       "      <td>11.0</td>\n",
       "      <td>34.0</td>\n",
       "      <td>0.9978</td>\n",
       "      <td>3.51</td>\n",
       "      <td>0.56</td>\n",
       "      <td>9.4</td>\n",
       "      <td>Legit</td>\n",
       "      <td>red</td>\n",
       "    </tr>\n",
       "    <tr>\n",
       "      <th>1</th>\n",
       "      <td>7.8</td>\n",
       "      <td>0.88</td>\n",
       "      <td>0.00</td>\n",
       "      <td>2.6</td>\n",
       "      <td>0.098</td>\n",
       "      <td>25.0</td>\n",
       "      <td>67.0</td>\n",
       "      <td>0.9968</td>\n",
       "      <td>3.20</td>\n",
       "      <td>0.68</td>\n",
       "      <td>9.8</td>\n",
       "      <td>Legit</td>\n",
       "      <td>red</td>\n",
       "    </tr>\n",
       "    <tr>\n",
       "      <th>2</th>\n",
       "      <td>7.8</td>\n",
       "      <td>0.76</td>\n",
       "      <td>0.04</td>\n",
       "      <td>2.3</td>\n",
       "      <td>0.092</td>\n",
       "      <td>15.0</td>\n",
       "      <td>54.0</td>\n",
       "      <td>0.9970</td>\n",
       "      <td>3.26</td>\n",
       "      <td>0.65</td>\n",
       "      <td>9.8</td>\n",
       "      <td>Legit</td>\n",
       "      <td>red</td>\n",
       "    </tr>\n",
       "    <tr>\n",
       "      <th>3</th>\n",
       "      <td>11.2</td>\n",
       "      <td>0.28</td>\n",
       "      <td>0.56</td>\n",
       "      <td>1.9</td>\n",
       "      <td>0.075</td>\n",
       "      <td>17.0</td>\n",
       "      <td>60.0</td>\n",
       "      <td>0.9980</td>\n",
       "      <td>3.16</td>\n",
       "      <td>0.58</td>\n",
       "      <td>9.8</td>\n",
       "      <td>Legit</td>\n",
       "      <td>red</td>\n",
       "    </tr>\n",
       "    <tr>\n",
       "      <th>4</th>\n",
       "      <td>7.4</td>\n",
       "      <td>0.70</td>\n",
       "      <td>0.00</td>\n",
       "      <td>1.9</td>\n",
       "      <td>0.076</td>\n",
       "      <td>11.0</td>\n",
       "      <td>34.0</td>\n",
       "      <td>0.9978</td>\n",
       "      <td>3.51</td>\n",
       "      <td>0.56</td>\n",
       "      <td>9.4</td>\n",
       "      <td>Legit</td>\n",
       "      <td>red</td>\n",
       "    </tr>\n",
       "  </tbody>\n",
       "</table>\n",
       "</div>"
      ],
      "text/plain": [
       "   fixed acidity  volatile acidity  citric acid  residual sugar  chlorides  \\\n",
       "0            7.4              0.70         0.00             1.9      0.076   \n",
       "1            7.8              0.88         0.00             2.6      0.098   \n",
       "2            7.8              0.76         0.04             2.3      0.092   \n",
       "3           11.2              0.28         0.56             1.9      0.075   \n",
       "4            7.4              0.70         0.00             1.9      0.076   \n",
       "\n",
       "   free sulfur dioxide  total sulfur dioxide  density    pH  sulphates  \\\n",
       "0                 11.0                  34.0   0.9978  3.51       0.56   \n",
       "1                 25.0                  67.0   0.9968  3.20       0.68   \n",
       "2                 15.0                  54.0   0.9970  3.26       0.65   \n",
       "3                 17.0                  60.0   0.9980  3.16       0.58   \n",
       "4                 11.0                  34.0   0.9978  3.51       0.56   \n",
       "\n",
       "   alcohol quality type  \n",
       "0      9.4   Legit  red  \n",
       "1      9.8   Legit  red  \n",
       "2      9.8   Legit  red  \n",
       "3      9.8   Legit  red  \n",
       "4      9.4   Legit  red  "
      ]
     },
     "execution_count": 3,
     "metadata": {},
     "output_type": "execute_result"
    }
   ],
   "source": [
    "import pandas as pd\n",
    "import numpy as np\n",
    "import warnings\n",
    "warnings.filterwarnings(\"ignore\")\n",
    "\n",
    "df=pd.read_csv('data/wine_fraud.csv')\n",
    "\n",
    "df.head()"
   ]
  },
  {
   "cell_type": "code",
   "execution_count": 4,
   "metadata": {},
   "outputs": [
    {
     "name": "stdout",
     "output_type": "stream",
     "text": [
      "['Legit' 'Fraud']\n"
     ]
    }
   ],
   "source": [
    "#review the quality column to see what value it has\n",
    "unique_quality = df['quality'].unique()               \n",
    "print(unique_quality)"
   ]
  },
  {
   "cell_type": "code",
   "execution_count": 5,
   "metadata": {},
   "outputs": [
    {
     "data": {
      "text/plain": [
       "Legit    6251\n",
       "Fraud     246\n",
       "Name: quality, dtype: int64"
      ]
     },
     "execution_count": 5,
     "metadata": {},
     "output_type": "execute_result"
    }
   ],
   "source": [
    "#count how many are legit and how many are fraud\n",
    "df['quality'].value_counts()\n",
    "    "
   ]
  },
  {
   "cell_type": "code",
   "execution_count": 6,
   "metadata": {},
   "outputs": [
    {
     "data": {
      "text/plain": [
       "white    4898\n",
       "red      1599\n",
       "Name: type, dtype: int64"
      ]
     },
     "execution_count": 6,
     "metadata": {},
     "output_type": "execute_result"
    }
   ],
   "source": [
    "df['type'].value_counts()"
   ]
  },
  {
   "cell_type": "code",
   "execution_count": 7,
   "metadata": {},
   "outputs": [
    {
     "data": {
      "text/plain": [
       "Legit    6251\n",
       "Fraud     246\n",
       "Name: quality, dtype: int64"
      ]
     },
     "execution_count": 7,
     "metadata": {},
     "output_type": "execute_result"
    },
    {
     "data": {
      "image/png": "[encoded data removed]",
      "text/plain": [
       "<Figure size 432x288 with 1 Axes>"
      ]
     },
     "metadata": {
      "needs_background": "light"
     },
     "output_type": "display_data"
    }
   ],
   "source": [
    "import seaborn as sns\n",
    "import matplotlib.pyplot as plt\n",
    "\n",
    "plt.title('Legit vs. Fraud')\n",
    "sns.countplot(data=df, x='quality')\n",
    "df['quality'].value_counts()\n"
   ]
  },
  {
   "cell_type": "code",
   "execution_count": 8,
   "metadata": {},
   "outputs": [
    {
     "data": {
      "text/plain": [
       "<AxesSubplot:title={'center':'Red or Write by Legit or Fraud'}, xlabel='type', ylabel='count'>"
      ]
     },
     "execution_count": 8,
     "metadata": {},
     "output_type": "execute_result"
    },
    {
     "data": {
      "image/png": "[encoded data removed]",
      "text/plain": [
       "<Figure size 432x288 with 1 Axes>"
      ]
     },
     "metadata": {
      "needs_background": "light"
     },
     "output_type": "display_data"
    }
   ],
   "source": [
    "plt.title('Red or Write by Legit or Fraud')\n",
    "sns.countplot(data=df, x='type', hue='quality')\n"
   ]
  },
  {
   "cell_type": "code",
   "execution_count": 9,
   "metadata": {},
   "outputs": [
    {
     "name": "stdout",
     "output_type": "stream",
     "text": [
      "Percentage of Fraud for Red Wine: 3.94%\n",
      "Percentage of Fraud for White Wine: 3.74%\n"
     ]
    }
   ],
   "source": [
    "red_wine = df[df['type'] == 'red']\n",
    "red_fraud_percentage = (red_wine['quality'].value_counts().get('Fraud', 0) / len(red_wine)) * 100\n",
    "\n",
    "white_wine = df[df['type'] == 'white']\n",
    "white_fraud_percentage = (white_wine['quality'].value_counts().get('Fraud', 0) / len(white_wine)) * 100\n",
    "\n",
    "print(f\"Percentage of Fraud for Red Wine: {red_fraud_percentage:.2f}%\")\n",
    "print(f\"Percentage of Fraud for White Wine: {white_fraud_percentage:.2f}%\")\n"
   ]
  },
  {
   "cell_type": "code",
   "execution_count": 10,
   "metadata": {},
   "outputs": [
    {
     "data": {
      "text/html": [
       "<div>\n",
       "<style scoped>\n",
       "    .dataframe tbody tr th:only-of-type {\n",
       "        vertical-align: middle;\n",
       "    }\n",
       "\n",
       "    .dataframe tbody tr th {\n",
       "        vertical-align: top;\n",
       "    }\n",
       "\n",
       "    .dataframe thead th {\n",
       "        text-align: right;\n",
       "    }\n",
       "</style>\n",
       "<table border=\"1\" class=\"dataframe\">\n",
       "  <thead>\n",
       "    <tr style=\"text-align: right;\">\n",
       "      <th></th>\n",
       "      <th>fixed acidity</th>\n",
       "      <th>volatile acidity</th>\n",
       "      <th>citric acid</th>\n",
       "      <th>residual sugar</th>\n",
       "      <th>chlorides</th>\n",
       "      <th>free sulfur dioxide</th>\n",
       "      <th>total sulfur dioxide</th>\n",
       "      <th>density</th>\n",
       "      <th>pH</th>\n",
       "      <th>sulphates</th>\n",
       "      <th>alcohol</th>\n",
       "      <th>quality</th>\n",
       "      <th>type</th>\n",
       "    </tr>\n",
       "  </thead>\n",
       "  <tbody>\n",
       "    <tr>\n",
       "      <th>0</th>\n",
       "      <td>7.4</td>\n",
       "      <td>0.70</td>\n",
       "      <td>0.00</td>\n",
       "      <td>1.9</td>\n",
       "      <td>0.076</td>\n",
       "      <td>11.0</td>\n",
       "      <td>34.0</td>\n",
       "      <td>0.9978</td>\n",
       "      <td>3.51</td>\n",
       "      <td>0.56</td>\n",
       "      <td>9.4</td>\n",
       "      <td>0</td>\n",
       "      <td>red</td>\n",
       "    </tr>\n",
       "    <tr>\n",
       "      <th>1</th>\n",
       "      <td>7.8</td>\n",
       "      <td>0.88</td>\n",
       "      <td>0.00</td>\n",
       "      <td>2.6</td>\n",
       "      <td>0.098</td>\n",
       "      <td>25.0</td>\n",
       "      <td>67.0</td>\n",
       "      <td>0.9968</td>\n",
       "      <td>3.20</td>\n",
       "      <td>0.68</td>\n",
       "      <td>9.8</td>\n",
       "      <td>0</td>\n",
       "      <td>red</td>\n",
       "    </tr>\n",
       "    <tr>\n",
       "      <th>2</th>\n",
       "      <td>7.8</td>\n",
       "      <td>0.76</td>\n",
       "      <td>0.04</td>\n",
       "      <td>2.3</td>\n",
       "      <td>0.092</td>\n",
       "      <td>15.0</td>\n",
       "      <td>54.0</td>\n",
       "      <td>0.9970</td>\n",
       "      <td>3.26</td>\n",
       "      <td>0.65</td>\n",
       "      <td>9.8</td>\n",
       "      <td>0</td>\n",
       "      <td>red</td>\n",
       "    </tr>\n",
       "    <tr>\n",
       "      <th>3</th>\n",
       "      <td>11.2</td>\n",
       "      <td>0.28</td>\n",
       "      <td>0.56</td>\n",
       "      <td>1.9</td>\n",
       "      <td>0.075</td>\n",
       "      <td>17.0</td>\n",
       "      <td>60.0</td>\n",
       "      <td>0.9980</td>\n",
       "      <td>3.16</td>\n",
       "      <td>0.58</td>\n",
       "      <td>9.8</td>\n",
       "      <td>0</td>\n",
       "      <td>red</td>\n",
       "    </tr>\n",
       "    <tr>\n",
       "      <th>4</th>\n",
       "      <td>7.4</td>\n",
       "      <td>0.70</td>\n",
       "      <td>0.00</td>\n",
       "      <td>1.9</td>\n",
       "      <td>0.076</td>\n",
       "      <td>11.0</td>\n",
       "      <td>34.0</td>\n",
       "      <td>0.9978</td>\n",
       "      <td>3.51</td>\n",
       "      <td>0.56</td>\n",
       "      <td>9.4</td>\n",
       "      <td>0</td>\n",
       "      <td>red</td>\n",
       "    </tr>\n",
       "  </tbody>\n",
       "</table>\n",
       "</div>"
      ],
      "text/plain": [
       "   fixed acidity  volatile acidity  citric acid  residual sugar  chlorides  \\\n",
       "0            7.4              0.70         0.00             1.9      0.076   \n",
       "1            7.8              0.88         0.00             2.6      0.098   \n",
       "2            7.8              0.76         0.04             2.3      0.092   \n",
       "3           11.2              0.28         0.56             1.9      0.075   \n",
       "4            7.4              0.70         0.00             1.9      0.076   \n",
       "\n",
       "   free sulfur dioxide  total sulfur dioxide  density    pH  sulphates  \\\n",
       "0                 11.0                  34.0   0.9978  3.51       0.56   \n",
       "1                 25.0                  67.0   0.9968  3.20       0.68   \n",
       "2                 15.0                  54.0   0.9970  3.26       0.65   \n",
       "3                 17.0                  60.0   0.9980  3.16       0.58   \n",
       "4                 11.0                  34.0   0.9978  3.51       0.56   \n",
       "\n",
       "   alcohol  quality type  \n",
       "0      9.4        0  red  \n",
       "1      9.8        0  red  \n",
       "2      9.8        0  red  \n",
       "3      9.8        0  red  \n",
       "4      9.4        0  red  "
      ]
     },
     "execution_count": 10,
     "metadata": {},
     "output_type": "execute_result"
    }
   ],
   "source": [
    "# Convert the target variable quality from \"Legit\" and \"Fraud\" to 0 and 1, respectively, for the classification task.\n",
    "df['quality'] = df['quality'].replace({'Legit': 0, 'Fraud': 1})\n",
    "df.head()"
   ]
  },
  {
   "cell_type": "code",
   "execution_count": 11,
   "metadata": {},
   "outputs": [
    {
     "data": {
      "text/html": [
       "<div>\n",
       "<style scoped>\n",
       "    .dataframe tbody tr th:only-of-type {\n",
       "        vertical-align: middle;\n",
       "    }\n",
       "\n",
       "    .dataframe tbody tr th {\n",
       "        vertical-align: top;\n",
       "    }\n",
       "\n",
       "    .dataframe thead th {\n",
       "        text-align: right;\n",
       "    }\n",
       "</style>\n",
       "<table border=\"1\" class=\"dataframe\">\n",
       "  <thead>\n",
       "    <tr style=\"text-align: right;\">\n",
       "      <th></th>\n",
       "      <th>fixed acidity</th>\n",
       "      <th>volatile acidity</th>\n",
       "      <th>citric acid</th>\n",
       "      <th>residual sugar</th>\n",
       "      <th>chlorides</th>\n",
       "      <th>free sulfur dioxide</th>\n",
       "      <th>total sulfur dioxide</th>\n",
       "      <th>density</th>\n",
       "      <th>pH</th>\n",
       "      <th>sulphates</th>\n",
       "      <th>alcohol</th>\n",
       "      <th>quality</th>\n",
       "      <th>type_white</th>\n",
       "    </tr>\n",
       "  </thead>\n",
       "  <tbody>\n",
       "    <tr>\n",
       "      <th>0</th>\n",
       "      <td>7.4</td>\n",
       "      <td>0.70</td>\n",
       "      <td>0.00</td>\n",
       "      <td>1.9</td>\n",
       "      <td>0.076</td>\n",
       "      <td>11.0</td>\n",
       "      <td>34.0</td>\n",
       "      <td>0.9978</td>\n",
       "      <td>3.51</td>\n",
       "      <td>0.56</td>\n",
       "      <td>9.4</td>\n",
       "      <td>0</td>\n",
       "      <td>0</td>\n",
       "    </tr>\n",
       "    <tr>\n",
       "      <th>1</th>\n",
       "      <td>7.8</td>\n",
       "      <td>0.88</td>\n",
       "      <td>0.00</td>\n",
       "      <td>2.6</td>\n",
       "      <td>0.098</td>\n",
       "      <td>25.0</td>\n",
       "      <td>67.0</td>\n",
       "      <td>0.9968</td>\n",
       "      <td>3.20</td>\n",
       "      <td>0.68</td>\n",
       "      <td>9.8</td>\n",
       "      <td>0</td>\n",
       "      <td>0</td>\n",
       "    </tr>\n",
       "    <tr>\n",
       "      <th>2</th>\n",
       "      <td>7.8</td>\n",
       "      <td>0.76</td>\n",
       "      <td>0.04</td>\n",
       "      <td>2.3</td>\n",
       "      <td>0.092</td>\n",
       "      <td>15.0</td>\n",
       "      <td>54.0</td>\n",
       "      <td>0.9970</td>\n",
       "      <td>3.26</td>\n",
       "      <td>0.65</td>\n",
       "      <td>9.8</td>\n",
       "      <td>0</td>\n",
       "      <td>0</td>\n",
       "    </tr>\n",
       "    <tr>\n",
       "      <th>3</th>\n",
       "      <td>11.2</td>\n",
       "      <td>0.28</td>\n",
       "      <td>0.56</td>\n",
       "      <td>1.9</td>\n",
       "      <td>0.075</td>\n",
       "      <td>17.0</td>\n",
       "      <td>60.0</td>\n",
       "      <td>0.9980</td>\n",
       "      <td>3.16</td>\n",
       "      <td>0.58</td>\n",
       "      <td>9.8</td>\n",
       "      <td>0</td>\n",
       "      <td>0</td>\n",
       "    </tr>\n",
       "    <tr>\n",
       "      <th>4</th>\n",
       "      <td>7.4</td>\n",
       "      <td>0.70</td>\n",
       "      <td>0.00</td>\n",
       "      <td>1.9</td>\n",
       "      <td>0.076</td>\n",
       "      <td>11.0</td>\n",
       "      <td>34.0</td>\n",
       "      <td>0.9978</td>\n",
       "      <td>3.51</td>\n",
       "      <td>0.56</td>\n",
       "      <td>9.4</td>\n",
       "      <td>0</td>\n",
       "      <td>0</td>\n",
       "    </tr>\n",
       "  </tbody>\n",
       "</table>\n",
       "</div>"
      ],
      "text/plain": [
       "   fixed acidity  volatile acidity  citric acid  residual sugar  chlorides  \\\n",
       "0            7.4              0.70         0.00             1.9      0.076   \n",
       "1            7.8              0.88         0.00             2.6      0.098   \n",
       "2            7.8              0.76         0.04             2.3      0.092   \n",
       "3           11.2              0.28         0.56             1.9      0.075   \n",
       "4            7.4              0.70         0.00             1.9      0.076   \n",
       "\n",
       "   free sulfur dioxide  total sulfur dioxide  density    pH  sulphates  \\\n",
       "0                 11.0                  34.0   0.9978  3.51       0.56   \n",
       "1                 25.0                  67.0   0.9968  3.20       0.68   \n",
       "2                 15.0                  54.0   0.9970  3.26       0.65   \n",
       "3                 17.0                  60.0   0.9980  3.16       0.58   \n",
       "4                 11.0                  34.0   0.9978  3.51       0.56   \n",
       "\n",
       "   alcohol  quality  type_white  \n",
       "0      9.4        0           0  \n",
       "1      9.8        0           0  \n",
       "2      9.8        0           0  \n",
       "3      9.8        0           0  \n",
       "4      9.4        0           0  "
      ]
     },
     "execution_count": 11,
     "metadata": {},
     "output_type": "execute_result"
    }
   ],
   "source": [
    "#Convert the categorical column type into numerical values using Pandas’ get_dummies() function.\n",
    "df = pd.get_dummies(df, drop_first=True)\n",
    "df.head()"
   ]
  },
  {
   "cell_type": "markdown",
   "metadata": {},
   "source": [
    "Machine Learning (ML) Coding"
   ]
  },
  {
   "cell_type": "code",
   "execution_count": 12,
   "metadata": {},
   "outputs": [],
   "source": [
    "# Split the dataset into features (X) and target variable (y)\n",
    "X = df.drop(columns=['quality'])  # Features\n",
    "y = df['quality']  # Target variable"
   ]
  },
  {
   "cell_type": "code",
   "execution_count": 13,
   "metadata": {},
   "outputs": [],
   "source": [
    "# Split the dataset into training and testing sets using an 80-20 split and random_state=42\n",
    "X_train, X_test, y_train, y_test = train_test_split(X, y, test_size=0.2, random_state=42)\n",
    "\n",
    "#  use StandardScaler to scale the features in both the training and testing sets.\n",
    "scaler = StandardScaler()\n",
    "X_train_scaled = scaler.fit_transform(X_train)\n",
    "X_test_scaled = scaler.transform(X_test)"
   ]
  },
  {
   "cell_type": "markdown",
   "metadata": {},
   "source": [
    "Use GridSearchCV to search for the best hyperparamerts (C regularization and gammar kernel coefficient):"
   ]
  },
  {
   "cell_type": "code",
   "execution_count": 14,
   "metadata": {},
   "outputs": [
    {
     "data": {
      "text/html": [
       "<style>#sk-container-id-1 {\n",
       "  /* Definition of color scheme common for light and dark mode */\n",
       "  --sklearn-color-text: black;\n",
       "  --sklearn-color-line: gray;\n",
       "  /* Definition of color scheme for unfitted estimators */\n",
       "  --sklearn-color-unfitted-level-0: #fff5e6;\n",
       "  --sklearn-color-unfitted-level-1: #f6e4d2;\n",
       "  --sklearn-color-unfitted-level-2: #ffe0b3;\n",
       "  --sklearn-color-unfitted-level-3: chocolate;\n",
       "  /* Definition of color scheme for fitted estimators */\n",
       "  --sklearn-color-fitted-level-0: #f0f8ff;\n",
       "  --sklearn-color-fitted-level-1: #d4ebff;\n",
       "  --sklearn-color-fitted-level-2: #b3dbfd;\n",
       "  --sklearn-color-fitted-level-3: cornflowerblue;\n",
       "\n",
       "  /* Specific color for light theme */\n",
       "  --sklearn-color-text-on-default-background: var(--sg-text-color, var(--theme-code-foreground, var(--jp-content-font-color1, black)));\n",
       "  --sklearn-color-background: var(--sg-background-color, var(--theme-background, var(--jp-layout-color0, white)));\n",
       "  --sklearn-color-border-box: var(--sg-text-color, var(--theme-code-foreground, var(--jp-content-font-color1, black)));\n",
       "  --sklearn-color-icon: #696969;\n",
       "\n",
       "  @media (prefers-color-scheme: dark) {\n",
       "    /* Redefinition of color scheme for dark theme */\n",
       "    --sklearn-color-text-on-default-background: var(--sg-text-color, var(--theme-code-foreground, var(--jp-content-font-color1, white)));\n",
       "    --sklearn-color-background: var(--sg-background-color, var(--theme-background, var(--jp-layout-color0, #111)));\n",
       "    --sklearn-color-border-box: var(--sg-text-color, var(--theme-code-foreground, var(--jp-content-font-color1, white)));\n",
       "    --sklearn-color-icon: #878787;\n",
       "  }\n",
       "}\n",
       "\n",
       "#sk-container-id-1 {\n",
       "  color: var(--sklearn-color-text);\n",
       "}\n",
       "\n",
       "#sk-container-id-1 pre {\n",
       "  padding: 0;\n",
       "}\n",
       "\n",
       "#sk-container-id-1 input.sk-hidden--visually {\n",
       "  border: 0;\n",
       "  clip: rect(1px 1px 1px 1px);\n",
       "  clip: rect(1px, 1px, 1px, 1px);\n",
       "  height: 1px;\n",
       "  margin: -1px;\n",
       "  overflow: hidden;\n",
       "  padding: 0;\n",
       "  position: absolute;\n",
       "  width: 1px;\n",
       "}\n",
       "\n",
       "#sk-container-id-1 div.sk-dashed-wrapped {\n",
       "  border: 1px dashed var(--sklearn-color-line);\n",
       "  margin: 0 0.4em 0.5em 0.4em;\n",
       "  box-sizing: border-box;\n",
       "  padding-bottom: 0.4em;\n",
       "  background-color: var(--sklearn-color-background);\n",
       "}\n",
       "\n",
       "#sk-container-id-1 div.sk-container {\n",
       "  /* jupyter's `normalize.less` sets `[hidden] { display: none; }`\n",
       "     but bootstrap.min.css set `[hidden] { display: none !important; }`\n",
       "     so we also need the `!important` here to be able to override the\n",
       "     default hidden behavior on the sphinx rendered scikit-learn.org.\n",
       "     See: https://github.com/scikit-learn/scikit-learn/issues/21755 */\n",
       "  display: inline-block !important;\n",
       "  position: relative;\n",
       "}\n",
       "\n",
       "#sk-container-id-1 div.sk-text-repr-fallback {\n",
       "  display: none;\n",
       "}\n",
       "\n",
       "div.sk-parallel-item,\n",
       "div.sk-serial,\n",
       "div.sk-item {\n",
       "  /* draw centered vertical line to link estimators */\n",
       "  background-image: linear-gradient(var(--sklearn-color-text-on-default-background), var(--sklearn-color-text-on-default-background));\n",
       "  background-size: 2px 100%;\n",
       "  background-repeat: no-repeat;\n",
       "  background-position: center center;\n",
       "}\n",
       "\n",
       "/* Parallel-specific style estimator block */\n",
       "\n",
       "#sk-container-id-1 div.sk-parallel-item::after {\n",
       "  content: \"\";\n",
       "  width: 100%;\n",
       "  border-bottom: 2px solid var(--sklearn-color-text-on-default-background);\n",
       "  flex-grow: 1;\n",
       "}\n",
       "\n",
       "#sk-container-id-1 div.sk-parallel {\n",
       "  display: flex;\n",
       "  align-items: stretch;\n",
       "  justify-content: center;\n",
       "  background-color: var(--sklearn-color-background);\n",
       "  position: relative;\n",
       "}\n",
       "\n",
       "#sk-container-id-1 div.sk-parallel-item {\n",
       "  display: flex;\n",
       "  flex-direction: column;\n",
       "}\n",
       "\n",
       "#sk-container-id-1 div.sk-parallel-item:first-child::after {\n",
       "  align-self: flex-end;\n",
       "  width: 50%;\n",
       "}\n",
       "\n",
       "#sk-container-id-1 div.sk-parallel-item:last-child::after {\n",
       "  align-self: flex-start;\n",
       "  width: 50%;\n",
       "}\n",
       "\n",
       "#sk-container-id-1 div.sk-parallel-item:only-child::after {\n",
       "  width: 0;\n",
       "}\n",
       "\n",
       "/* Serial-specific style estimator block */\n",
       "\n",
       "#sk-container-id-1 div.sk-serial {\n",
       "  display: flex;\n",
       "  flex-direction: column;\n",
       "  align-items: center;\n",
       "  background-color: var(--sklearn-color-background);\n",
       "  padding-right: 1em;\n",
       "  padding-left: 1em;\n",
       "}\n",
       "\n",
       "\n",
       "/* Toggleable style: style used for estimator/Pipeline/ColumnTransformer box that is\n",
       "clickable and can be expanded/collapsed.\n",
       "- Pipeline and ColumnTransformer use this feature and define the default style\n",
       "- Estimators will overwrite some part of the style using the `sk-estimator` class\n",
       "*/\n",
       "\n",
       "/* Pipeline and ColumnTransformer style (default) */\n",
       "\n",
       "#sk-container-id-1 div.sk-toggleable {\n",
       "  /* Default theme specific background. It is overwritten whether we have a\n",
       "  specific estimator or a Pipeline/ColumnTransformer */\n",
       "  background-color: var(--sklearn-color-background);\n",
       "}\n",
       "\n",
       "/* Toggleable label */\n",
       "#sk-container-id-1 label.sk-toggleable__label {\n",
       "  cursor: pointer;\n",
       "  display: block;\n",
       "  width: 100%;\n",
       "  margin-bottom: 0;\n",
       "  padding: 0.5em;\n",
       "  box-sizing: border-box;\n",
       "  text-align: center;\n",
       "}\n",
       "\n",
       "#sk-container-id-1 label.sk-toggleable__label-arrow:before {\n",
       "  /* Arrow on the left of the label */\n",
       "  content: \"▸\";\n",
       "  float: left;\n",
       "  margin-right: 0.25em;\n",
       "  color: var(--sklearn-color-icon);\n",
       "}\n",
       "\n",
       "#sk-container-id-1 label.sk-toggleable__label-arrow:hover:before {\n",
       "  color: var(--sklearn-color-text);\n",
       "}\n",
       "\n",
       "/* Toggleable content - dropdown */\n",
       "\n",
       "#sk-container-id-1 div.sk-toggleable__content {\n",
       "  max-height: 0;\n",
       "  max-width: 0;\n",
       "  overflow: hidden;\n",
       "  text-align: left;\n",
       "  /* unfitted */\n",
       "  background-color: var(--sklearn-color-unfitted-level-0);\n",
       "}\n",
       "\n",
       "#sk-container-id-1 div.sk-toggleable__content.fitted {\n",
       "  /* fitted */\n",
       "  background-color: var(--sklearn-color-fitted-level-0);\n",
       "}\n",
       "\n",
       "#sk-container-id-1 div.sk-toggleable__content pre {\n",
       "  margin: 0.2em;\n",
       "  border-radius: 0.25em;\n",
       "  color: var(--sklearn-color-text);\n",
       "  /* unfitted */\n",
       "  background-color: var(--sklearn-color-unfitted-level-0);\n",
       "}\n",
       "\n",
       "#sk-container-id-1 div.sk-toggleable__content.fitted pre {\n",
       "  /* unfitted */\n",
       "  background-color: var(--sklearn-color-fitted-level-0);\n",
       "}\n",
       "\n",
       "#sk-container-id-1 input.sk-toggleable__control:checked~div.sk-toggleable__content {\n",
       "  /* Expand drop-down */\n",
       "  max-height: 200px;\n",
       "  max-width: 100%;\n",
       "  overflow: auto;\n",
       "}\n",
       "\n",
       "#sk-container-id-1 input.sk-toggleable__control:checked~label.sk-toggleable__label-arrow:before {\n",
       "  content: \"▾\";\n",
       "}\n",
       "\n",
       "/* Pipeline/ColumnTransformer-specific style */\n",
       "\n",
       "#sk-container-id-1 div.sk-label input.sk-toggleable__control:checked~label.sk-toggleable__label {\n",
       "  color: var(--sklearn-color-text);\n",
       "  background-color: var(--sklearn-color-unfitted-level-2);\n",
       "}\n",
       "\n",
       "#sk-container-id-1 div.sk-label.fitted input.sk-toggleable__control:checked~label.sk-toggleable__label {\n",
       "  background-color: var(--sklearn-color-fitted-level-2);\n",
       "}\n",
       "\n",
       "/* Estimator-specific style */\n",
       "\n",
       "/* Colorize estimator box */\n",
       "#sk-container-id-1 div.sk-estimator input.sk-toggleable__control:checked~label.sk-toggleable__label {\n",
       "  /* unfitted */\n",
       "  background-color: var(--sklearn-color-unfitted-level-2);\n",
       "}\n",
       "\n",
       "#sk-container-id-1 div.sk-estimator.fitted input.sk-toggleable__control:checked~label.sk-toggleable__label {\n",
       "  /* fitted */\n",
       "  background-color: var(--sklearn-color-fitted-level-2);\n",
       "}\n",
       "\n",
       "#sk-container-id-1 div.sk-label label.sk-toggleable__label,\n",
       "#sk-container-id-1 div.sk-label label {\n",
       "  /* The background is the default theme color */\n",
       "  color: var(--sklearn-color-text-on-default-background);\n",
       "}\n",
       "\n",
       "/* On hover, darken the color of the background */\n",
       "#sk-container-id-1 div.sk-label:hover label.sk-toggleable__label {\n",
       "  color: var(--sklearn-color-text);\n",
       "  background-color: var(--sklearn-color-unfitted-level-2);\n",
       "}\n",
       "\n",
       "/* Label box, darken color on hover, fitted */\n",
       "#sk-container-id-1 div.sk-label.fitted:hover label.sk-toggleable__label.fitted {\n",
       "  color: var(--sklearn-color-text);\n",
       "  background-color: var(--sklearn-color-fitted-level-2);\n",
       "}\n",
       "\n",
       "/* Estimator label */\n",
       "\n",
       "#sk-container-id-1 div.sk-label label {\n",
       "  font-family: monospace;\n",
       "  font-weight: bold;\n",
       "  display: inline-block;\n",
       "  line-height: 1.2em;\n",
       "}\n",
       "\n",
       "#sk-container-id-1 div.sk-label-container {\n",
       "  text-align: center;\n",
       "}\n",
       "\n",
       "/* Estimator-specific */\n",
       "#sk-container-id-1 div.sk-estimator {\n",
       "  font-family: monospace;\n",
       "  border: 1px dotted var(--sklearn-color-border-box);\n",
       "  border-radius: 0.25em;\n",
       "  box-sizing: border-box;\n",
       "  margin-bottom: 0.5em;\n",
       "  /* unfitted */\n",
       "  background-color: var(--sklearn-color-unfitted-level-0);\n",
       "}\n",
       "\n",
       "#sk-container-id-1 div.sk-estimator.fitted {\n",
       "  /* fitted */\n",
       "  background-color: var(--sklearn-color-fitted-level-0);\n",
       "}\n",
       "\n",
       "/* on hover */\n",
       "#sk-container-id-1 div.sk-estimator:hover {\n",
       "  /* unfitted */\n",
       "  background-color: var(--sklearn-color-unfitted-level-2);\n",
       "}\n",
       "\n",
       "#sk-container-id-1 div.sk-estimator.fitted:hover {\n",
       "  /* fitted */\n",
       "  background-color: var(--sklearn-color-fitted-level-2);\n",
       "}\n",
       "\n",
       "/* Specification for estimator info (e.g. \"i\" and \"?\") */\n",
       "\n",
       "/* Common style for \"i\" and \"?\" */\n",
       "\n",
       ".sk-estimator-doc-link,\n",
       "a:link.sk-estimator-doc-link,\n",
       "a:visited.sk-estimator-doc-link {\n",
       "  float: right;\n",
       "  font-size: smaller;\n",
       "  line-height: 1em;\n",
       "  font-family: monospace;\n",
       "  background-color: var(--sklearn-color-background);\n",
       "  border-radius: 1em;\n",
       "  height: 1em;\n",
       "  width: 1em;\n",
       "  text-decoration: none !important;\n",
       "  margin-left: 1ex;\n",
       "  /* unfitted */\n",
       "  border: var(--sklearn-color-unfitted-level-1) 1pt solid;\n",
       "  color: var(--sklearn-color-unfitted-level-1);\n",
       "}\n",
       "\n",
       ".sk-estimator-doc-link.fitted,\n",
       "a:link.sk-estimator-doc-link.fitted,\n",
       "a:visited.sk-estimator-doc-link.fitted {\n",
       "  /* fitted */\n",
       "  border: var(--sklearn-color-fitted-level-1) 1pt solid;\n",
       "  color: var(--sklearn-color-fitted-level-1);\n",
       "}\n",
       "\n",
       "/* On hover */\n",
       "div.sk-estimator:hover .sk-estimator-doc-link:hover,\n",
       ".sk-estimator-doc-link:hover,\n",
       "div.sk-label-container:hover .sk-estimator-doc-link:hover,\n",
       ".sk-estimator-doc-link:hover {\n",
       "  /* unfitted */\n",
       "  background-color: var(--sklearn-color-unfitted-level-3);\n",
       "  color: var(--sklearn-color-background);\n",
       "  text-decoration: none;\n",
       "}\n",
       "\n",
       "div.sk-estimator.fitted:hover .sk-estimator-doc-link.fitted:hover,\n",
       ".sk-estimator-doc-link.fitted:hover,\n",
       "div.sk-label-container:hover .sk-estimator-doc-link.fitted:hover,\n",
       ".sk-estimator-doc-link.fitted:hover {\n",
       "  /* fitted */\n",
       "  background-color: var(--sklearn-color-fitted-level-3);\n",
       "  color: var(--sklearn-color-background);\n",
       "  text-decoration: none;\n",
       "}\n",
       "\n",
       "/* Span, style for the box shown on hovering the info icon */\n",
       ".sk-estimator-doc-link span {\n",
       "  display: none;\n",
       "  z-index: 9999;\n",
       "  position: relative;\n",
       "  font-weight: normal;\n",
       "  right: .2ex;\n",
       "  padding: .5ex;\n",
       "  margin: .5ex;\n",
       "  width: min-content;\n",
       "  min-width: 20ex;\n",
       "  max-width: 50ex;\n",
       "  color: var(--sklearn-color-text);\n",
       "  box-shadow: 2pt 2pt 4pt #999;\n",
       "  /* unfitted */\n",
       "  background: var(--sklearn-color-unfitted-level-0);\n",
       "  border: .5pt solid var(--sklearn-color-unfitted-level-3);\n",
       "}\n",
       "\n",
       ".sk-estimator-doc-link.fitted span {\n",
       "  /* fitted */\n",
       "  background: var(--sklearn-color-fitted-level-0);\n",
       "  border: var(--sklearn-color-fitted-level-3);\n",
       "}\n",
       "\n",
       ".sk-estimator-doc-link:hover span {\n",
       "  display: block;\n",
       "}\n",
       "\n",
       "/* \"?\"-specific style due to the `<a>` HTML tag */\n",
       "\n",
       "#sk-container-id-1 a.estimator_doc_link {\n",
       "  float: right;\n",
       "  font-size: 1rem;\n",
       "  line-height: 1em;\n",
       "  font-family: monospace;\n",
       "  background-color: var(--sklearn-color-background);\n",
       "  border-radius: 1rem;\n",
       "  height: 1rem;\n",
       "  width: 1rem;\n",
       "  text-decoration: none;\n",
       "  /* unfitted */\n",
       "  color: var(--sklearn-color-unfitted-level-1);\n",
       "  border: var(--sklearn-color-unfitted-level-1) 1pt solid;\n",
       "}\n",
       "\n",
       "#sk-container-id-1 a.estimator_doc_link.fitted {\n",
       "  /* fitted */\n",
       "  border: var(--sklearn-color-fitted-level-1) 1pt solid;\n",
       "  color: var(--sklearn-color-fitted-level-1);\n",
       "}\n",
       "\n",
       "/* On hover */\n",
       "#sk-container-id-1 a.estimator_doc_link:hover {\n",
       "  /* unfitted */\n",
       "  background-color: var(--sklearn-color-unfitted-level-3);\n",
       "  color: var(--sklearn-color-background);\n",
       "  text-decoration: none;\n",
       "}\n",
       "\n",
       "#sk-container-id-1 a.estimator_doc_link.fitted:hover {\n",
       "  /* fitted */\n",
       "  background-color: var(--sklearn-color-fitted-level-3);\n",
       "}\n",
       "</style><div id=\"sk-container-id-1\" class=\"sk-top-container\"><div class=\"sk-text-repr-fallback\"><pre>GridSearchCV(cv=5, estimator=SVC(class_weight=&#x27;balanced&#x27;),\n",
       "             param_grid={&#x27;C&#x27;: [0.001, 0.01, 0.1, 1, 10],\n",
       "                         &#x27;gamma&#x27;: [&#x27;scale&#x27;, &#x27;auto&#x27;]})</pre><b>In a Jupyter environment, please rerun this cell to show the HTML representation or trust the notebook. <br />On GitHub, the HTML representation is unable to render, please try loading this page with nbviewer.org.</b></div><div class=\"sk-container\" hidden><div class=\"sk-item sk-dashed-wrapped\"><div class=\"sk-label-container\"><div class=\"sk-label fitted sk-toggleable\"><input class=\"sk-toggleable__control sk-hidden--visually\" id=\"sk-estimator-id-1\" type=\"checkbox\" ><label for=\"sk-estimator-id-1\" class=\"sk-toggleable__label fitted sk-toggleable__label-arrow fitted\">&nbsp;&nbsp;GridSearchCV<a class=\"sk-estimator-doc-link fitted\" rel=\"noreferrer\" target=\"_blank\" href=\"https://scikit-learn.org/1.5/modules/generated/sklearn.model_selection.GridSearchCV.html\">?<span>Documentation for GridSearchCV</span></a><span class=\"sk-estimator-doc-link fitted\">i<span>Fitted</span></span></label><div class=\"sk-toggleable__content fitted\"><pre>GridSearchCV(cv=5, estimator=SVC(class_weight=&#x27;balanced&#x27;),\n",
       "             param_grid={&#x27;C&#x27;: [0.001, 0.01, 0.1, 1, 10],\n",
       "                         &#x27;gamma&#x27;: [&#x27;scale&#x27;, &#x27;auto&#x27;]})</pre></div> </div></div><div class=\"sk-parallel\"><div class=\"sk-parallel-item\"><div class=\"sk-item\"><div class=\"sk-label-container\"><div class=\"sk-label fitted sk-toggleable\"><input class=\"sk-toggleable__control sk-hidden--visually\" id=\"sk-estimator-id-2\" type=\"checkbox\" ><label for=\"sk-estimator-id-2\" class=\"sk-toggleable__label fitted sk-toggleable__label-arrow fitted\">best_estimator_: SVC</label><div class=\"sk-toggleable__content fitted\"><pre>SVC(C=10, class_weight=&#x27;balanced&#x27;, gamma=&#x27;auto&#x27;)</pre></div> </div></div><div class=\"sk-serial\"><div class=\"sk-item\"><div class=\"sk-estimator fitted sk-toggleable\"><input class=\"sk-toggleable__control sk-hidden--visually\" id=\"sk-estimator-id-3\" type=\"checkbox\" ><label for=\"sk-estimator-id-3\" class=\"sk-toggleable__label fitted sk-toggleable__label-arrow fitted\">&nbsp;SVC<a class=\"sk-estimator-doc-link fitted\" rel=\"noreferrer\" target=\"_blank\" href=\"https://scikit-learn.org/1.5/modules/generated/sklearn.svm.SVC.html\">?<span>Documentation for SVC</span></a></label><div class=\"sk-toggleable__content fitted\"><pre>SVC(C=10, class_weight=&#x27;balanced&#x27;, gamma=&#x27;auto&#x27;)</pre></div> </div></div></div></div></div></div></div></div></div>"
      ],
      "text/plain": [
       "GridSearchCV(cv=5, estimator=SVC(class_weight='balanced'),\n",
       "             param_grid={'C': [0.001, 0.01, 0.1, 1, 10],\n",
       "                         'gamma': ['scale', 'auto']})"
      ]
     },
     "execution_count": 14,
     "metadata": {},
     "output_type": "execute_result"
    }
   ],
   "source": [
    "# Define parameter grid\n",
    "param_grid = {'C': [0.001, 0.01, 0.1, 1, 10], 'gamma': ['scale', 'auto']}\n",
    "\n",
    "# Perform Grid Search with SVM\n",
    "grid = GridSearchCV(SVC(class_weight='balanced'), param_grid, cv=5)\n",
    "grid.fit(X_train, y_train)\n"
   ]
  },
  {
   "cell_type": "code",
   "execution_count": 15,
   "metadata": {},
   "outputs": [
    {
     "name": "stdout",
     "output_type": "stream",
     "text": [
      "Best Parameters from GridSearchCV:\n",
      "{'C': 10, 'gamma': 'auto'}\n"
     ]
    }
   ],
   "source": [
    "# Get the best parameters\n",
    "print(\"Best Parameters from GridSearchCV:\")\n",
    "print(grid.best_params_)"
   ]
  },
  {
   "cell_type": "code",
   "execution_count": 16,
   "metadata": {},
   "outputs": [],
   "source": [
    "# Make predictions using the best model\n",
    "grid_predictions = grid.predict(X_test)\n",
    "\n"
   ]
  },
  {
   "cell_type": "code",
   "execution_count": 17,
   "metadata": {},
   "outputs": [
    {
     "name": "stdout",
     "output_type": "stream",
     "text": [
      "\n",
      "Classification Report:\n",
      "              precision    recall  f1-score   support\n",
      "\n",
      "           0       0.97      0.98      0.97      1251\n",
      "           1       0.22      0.16      0.19        49\n",
      "\n",
      "    accuracy                           0.95      1300\n",
      "   macro avg       0.59      0.57      0.58      1300\n",
      "weighted avg       0.94      0.95      0.94      1300\n",
      "\n"
     ]
    }
   ],
   "source": [
    "#Print Classification Report\n",
    "print(\"\\nClassification Report:\")\n",
    "print(classification_report(y_test, grid_predictions))"
   ]
  },
  {
   "cell_type": "markdown",
   "metadata": {},
   "source": [
    "The classification report indicates that the model is very good at predicting \"Legit\" (0) but not effective at predicting \"Fraud\" (1). It is correct 97% of the time when predicting a wine that is \"Legit,\" but it is 22% correct when predicting fraud cases that are actually fraudulent. In other words, if the goal is to develop a model to detect fraud, this model does not work well. Noted only 16% was correctly predict fraud and actually is fraud. The false negative (fraud)% is high. (under recall) for fraud. Note the dataset was inbalance. High accuracy of 95% is somewhat misleading. \n"
   ]
  },
  {
   "cell_type": "markdown",
   "metadata": {},
   "source": [
    "Deep Learning using Neural Network"
   ]
  },
  {
   "cell_type": "markdown",
   "metadata": {},
   "source": [
    "This neural network is designed to classify data by learning patterns in the input features.\n",
    "\n",
    "Input Layer:\n",
    "The input layer defines the format of the data entering the network. It specifies the number of features (columns) in your dataset.\n",
    "By explicitly defining this shape, the network knows the structure of the incoming data and ensures compatibility with the rest of the model.\n",
    "Hidden Layers:\n",
    "These are intermediate layers where computations take place to extract meaningful patterns from the data.\n",
    "Each layer consists of a number of neurons (nodes) that apply mathematical transformations to the data.\n",
    "An activation function is applied to introduce non-linearity, allowing the network to learn complex relationships in the data.\n",
    "Dropout Layers:\n",
    "Dropout is a technique to prevent overfitting, where some neurons are randomly ignored during training.\n",
    "This forces the network to be more robust by not relying on specific neurons and helps improve generalization to unseen data.\n",
    "Output Layer:\n",
    "This layer produces the final prediction. It consists of one neuron per class in the target variable.\n",
    "A softmax activation function is applied to convert raw scores into probabilities, ensuring the outputs represent the likelihood of each class."
   ]
  },
  {
   "cell_type": "code",
   "execution_count": 18,
   "metadata": {},
   "outputs": [],
   "source": [
    "# Build the neural network\n",
    "model = Sequential([\n",
    "    Input(shape=(X_train.shape[1],)),  # Define the input shape explicitly\n",
    "    Dense(64, activation='relu'),\n",
    "    Dropout(0.5),  # Regularization\n",
    "    Dense(32, activation='relu'),\n",
    "    Dropout(0.3),\n",
    "    Dense(len(np.unique(y)), activation='softmax')  # Output layer\n",
    "])"
   ]
  },
  {
   "cell_type": "code",
   "execution_count": 19,
   "metadata": {},
   "outputs": [],
   "source": [
    "# Compile the model\n",
    "model.compile(optimizer=Adam(learning_rate=0.001),\n",
    "              loss='sparse_categorical_crossentropy',  # Adjust loss for classification\n",
    "              metrics=['accuracy'])"
   ]
  },
  {
   "cell_type": "code",
   "execution_count": 20,
   "metadata": {},
   "outputs": [
    {
     "name": "stdout",
     "output_type": "stream",
     "text": [
      "Epoch 1/50\n",
      "130/130 - 2s - 14ms/step - accuracy: 0.9247 - loss: 1.5447 - val_accuracy: 0.9615 - val_loss: 0.5302\n",
      "Epoch 2/50\n",
      "130/130 - 0s - 3ms/step - accuracy: 0.9278 - loss: 0.6619 - val_accuracy: 0.9615 - val_loss: 0.1735\n",
      "Epoch 3/50\n",
      "130/130 - 0s - 2ms/step - accuracy: 0.9420 - loss: 0.3669 - val_accuracy: 0.9615 - val_loss: 0.2102\n",
      "Epoch 4/50\n",
      "130/130 - 0s - 3ms/step - accuracy: 0.9521 - loss: 0.2659 - val_accuracy: 0.9615 - val_loss: 0.2162\n",
      "Epoch 5/50\n",
      "130/130 - 0s - 3ms/step - accuracy: 0.9591 - loss: 0.2289 - val_accuracy: 0.9615 - val_loss: 0.1959\n",
      "Epoch 6/50\n",
      "130/130 - 0s - 3ms/step - accuracy: 0.9584 - loss: 0.2165 - val_accuracy: 0.9615 - val_loss: 0.1954\n",
      "Epoch 7/50\n",
      "130/130 - 0s - 2ms/step - accuracy: 0.9618 - loss: 0.1943 - val_accuracy: 0.9615 - val_loss: 0.1982\n",
      "Epoch 8/50\n",
      "130/130 - 0s - 3ms/step - accuracy: 0.9605 - loss: 0.1900 - val_accuracy: 0.9615 - val_loss: 0.1717\n",
      "Epoch 9/50\n",
      "130/130 - 0s - 3ms/step - accuracy: 0.9610 - loss: 0.1933 - val_accuracy: 0.9615 - val_loss: 0.1895\n",
      "Epoch 10/50\n",
      "130/130 - 0s - 3ms/step - accuracy: 0.9620 - loss: 0.1795 - val_accuracy: 0.9615 - val_loss: 0.1559\n",
      "Epoch 11/50\n",
      "130/130 - 0s - 3ms/step - accuracy: 0.9610 - loss: 0.1790 - val_accuracy: 0.9615 - val_loss: 0.1492\n",
      "Epoch 12/50\n",
      "130/130 - 0s - 3ms/step - accuracy: 0.9615 - loss: 0.1724 - val_accuracy: 0.9615 - val_loss: 0.1498\n",
      "Epoch 13/50\n",
      "130/130 - 0s - 2ms/step - accuracy: 0.9622 - loss: 0.1719 - val_accuracy: 0.9615 - val_loss: 0.1491\n",
      "Epoch 14/50\n",
      "130/130 - 0s - 2ms/step - accuracy: 0.9618 - loss: 0.1704 - val_accuracy: 0.9615 - val_loss: 0.1506\n",
      "Epoch 15/50\n",
      "130/130 - 0s - 3ms/step - accuracy: 0.9622 - loss: 0.1677 - val_accuracy: 0.9615 - val_loss: 0.1525\n",
      "Epoch 16/50\n",
      "130/130 - 0s - 3ms/step - accuracy: 0.9618 - loss: 0.1721 - val_accuracy: 0.9615 - val_loss: 0.1511\n",
      "Epoch 17/50\n",
      "130/130 - 0s - 3ms/step - accuracy: 0.9622 - loss: 0.1659 - val_accuracy: 0.9615 - val_loss: 0.1512\n",
      "Epoch 18/50\n",
      "130/130 - 0s - 2ms/step - accuracy: 0.9622 - loss: 0.1661 - val_accuracy: 0.9615 - val_loss: 0.1534\n",
      "Epoch 19/50\n",
      "130/130 - 0s - 2ms/step - accuracy: 0.9618 - loss: 0.1614 - val_accuracy: 0.9615 - val_loss: 0.1518\n",
      "Epoch 20/50\n",
      "130/130 - 0s - 2ms/step - accuracy: 0.9622 - loss: 0.1618 - val_accuracy: 0.9615 - val_loss: 0.1487\n",
      "Epoch 21/50\n",
      "130/130 - 0s - 2ms/step - accuracy: 0.9622 - loss: 0.1633 - val_accuracy: 0.9615 - val_loss: 0.1560\n",
      "Epoch 22/50\n",
      "130/130 - 0s - 3ms/step - accuracy: 0.9622 - loss: 0.1613 - val_accuracy: 0.9615 - val_loss: 0.1535\n",
      "Epoch 23/50\n",
      "130/130 - 0s - 3ms/step - accuracy: 0.9625 - loss: 0.1576 - val_accuracy: 0.9615 - val_loss: 0.1503\n",
      "Epoch 24/50\n",
      "130/130 - 1s - 5ms/step - accuracy: 0.9622 - loss: 0.1586 - val_accuracy: 0.9615 - val_loss: 0.1509\n",
      "Epoch 25/50\n",
      "130/130 - 1s - 4ms/step - accuracy: 0.9622 - loss: 0.1588 - val_accuracy: 0.9615 - val_loss: 0.1491\n",
      "Epoch 26/50\n",
      "130/130 - 0s - 3ms/step - accuracy: 0.9622 - loss: 0.1584 - val_accuracy: 0.9615 - val_loss: 0.1489\n",
      "Epoch 27/50\n",
      "130/130 - 0s - 3ms/step - accuracy: 0.9622 - loss: 0.1615 - val_accuracy: 0.9615 - val_loss: 0.1501\n",
      "Epoch 28/50\n",
      "130/130 - 0s - 2ms/step - accuracy: 0.9622 - loss: 0.1576 - val_accuracy: 0.9615 - val_loss: 0.1478\n",
      "Epoch 29/50\n",
      "130/130 - 0s - 2ms/step - accuracy: 0.9622 - loss: 0.1569 - val_accuracy: 0.9615 - val_loss: 0.1527\n",
      "Epoch 30/50\n",
      "130/130 - 0s - 3ms/step - accuracy: 0.9622 - loss: 0.1587 - val_accuracy: 0.9615 - val_loss: 0.1476\n",
      "Epoch 31/50\n",
      "130/130 - 0s - 2ms/step - accuracy: 0.9622 - loss: 0.1566 - val_accuracy: 0.9615 - val_loss: 0.1454\n",
      "Epoch 32/50\n",
      "130/130 - 0s - 3ms/step - accuracy: 0.9622 - loss: 0.1612 - val_accuracy: 0.9615 - val_loss: 0.1487\n",
      "Epoch 33/50\n",
      "130/130 - 0s - 2ms/step - accuracy: 0.9622 - loss: 0.1557 - val_accuracy: 0.9615 - val_loss: 0.1454\n",
      "Epoch 34/50\n",
      "130/130 - 0s - 2ms/step - accuracy: 0.9622 - loss: 0.1583 - val_accuracy: 0.9615 - val_loss: 0.1460\n",
      "Epoch 35/50\n",
      "130/130 - 0s - 3ms/step - accuracy: 0.9622 - loss: 0.1574 - val_accuracy: 0.9615 - val_loss: 0.1477\n",
      "Epoch 36/50\n",
      "130/130 - 1s - 4ms/step - accuracy: 0.9622 - loss: 0.1555 - val_accuracy: 0.9615 - val_loss: 0.1508\n",
      "Epoch 37/50\n",
      "130/130 - 0s - 3ms/step - accuracy: 0.9622 - loss: 0.1556 - val_accuracy: 0.9615 - val_loss: 0.1590\n",
      "Epoch 38/50\n",
      "130/130 - 0s - 2ms/step - accuracy: 0.9622 - loss: 0.1606 - val_accuracy: 0.9615 - val_loss: 0.1453\n",
      "Epoch 39/50\n",
      "130/130 - 0s - 3ms/step - accuracy: 0.9622 - loss: 0.1512 - val_accuracy: 0.9615 - val_loss: 0.1388\n",
      "Epoch 40/50\n",
      "130/130 - 0s - 3ms/step - accuracy: 0.9622 - loss: 0.1560 - val_accuracy: 0.9615 - val_loss: 0.1477\n",
      "Epoch 41/50\n",
      "130/130 - 0s - 3ms/step - accuracy: 0.9622 - loss: 0.1563 - val_accuracy: 0.9615 - val_loss: 0.1530\n",
      "Epoch 42/50\n",
      "130/130 - 0s - 2ms/step - accuracy: 0.9622 - loss: 0.1557 - val_accuracy: 0.9615 - val_loss: 0.1428\n",
      "Epoch 43/50\n",
      "130/130 - 0s - 3ms/step - accuracy: 0.9622 - loss: 0.1577 - val_accuracy: 0.9615 - val_loss: 0.1482\n",
      "Epoch 44/50\n",
      "130/130 - 0s - 2ms/step - accuracy: 0.9622 - loss: 0.1546 - val_accuracy: 0.9615 - val_loss: 0.1438\n",
      "Epoch 45/50\n",
      "130/130 - 1s - 4ms/step - accuracy: 0.9622 - loss: 0.1563 - val_accuracy: 0.9615 - val_loss: 0.1486\n",
      "Epoch 46/50\n",
      "130/130 - 0s - 3ms/step - accuracy: 0.9622 - loss: 0.1517 - val_accuracy: 0.9615 - val_loss: 0.1454\n",
      "Epoch 47/50\n",
      "130/130 - 0s - 2ms/step - accuracy: 0.9622 - loss: 0.1541 - val_accuracy: 0.9615 - val_loss: 0.1435\n",
      "Epoch 48/50\n",
      "130/130 - 0s - 2ms/step - accuracy: 0.9622 - loss: 0.1529 - val_accuracy: 0.9615 - val_loss: 0.1506\n",
      "Epoch 49/50\n",
      "130/130 - 1s - 4ms/step - accuracy: 0.9622 - loss: 0.1551 - val_accuracy: 0.9615 - val_loss: 0.1391\n",
      "Epoch 50/50\n",
      "130/130 - 0s - 2ms/step - accuracy: 0.9622 - loss: 0.1523 - val_accuracy: 0.9615 - val_loss: 0.1436\n"
     ]
    },
    {
     "data": {
      "text/plain": [
       "<keras.src.callbacks.history.History at 0x1abd377abb0>"
      ]
     },
     "execution_count": 20,
     "metadata": {},
     "output_type": "execute_result"
    }
   ],
   "source": [
    "# Train the model\n",
    "model.fit(X_train, y_train, epochs=50, batch_size=32, validation_split=0.2, verbose=2)"
   ]
  },
  {
   "cell_type": "code",
   "execution_count": 21,
   "metadata": {},
   "outputs": [
    {
     "name": "stdout",
     "output_type": "stream",
     "text": [
      "\u001b[1m41/41\u001b[0m \u001b[32m━━━━━━━━━━━━━━━━━━━━\u001b[0m\u001b[37m\u001b[0m \u001b[1m0s\u001b[0m 4ms/step\n"
     ]
    }
   ],
   "source": [
    "# Evaluate the model\n",
    "y_pred = np.argmax(model.predict(X_test), axis=-1)"
   ]
  },
  {
   "cell_type": "code",
   "execution_count": 22,
   "metadata": {},
   "outputs": [
    {
     "name": "stdout",
     "output_type": "stream",
     "text": [
      "\n",
      "Classification Report:\n",
      "              precision    recall  f1-score   support\n",
      "\n",
      "           0       0.96      1.00      0.98      1251\n",
      "           1       0.00      0.00      0.00        49\n",
      "\n",
      "    accuracy                           0.96      1300\n",
      "   macro avg       0.48      0.50      0.49      1300\n",
      "weighted avg       0.93      0.96      0.94      1300\n",
      "\n"
     ]
    }
   ],
   "source": [
    "print(\"\\nClassification Report:\")\n",
    "print(classification_report(y_test, y_pred))"
   ]
  },
  {
   "cell_type": "markdown",
   "metadata": {},
   "source": [
    "It appear the neural network result was worst."
   ]
  },
  {
   "cell_type": "markdown",
   "metadata": {},
   "source": [
    "Tuning Hyperparmerts \n"
   ]
  },
  {
   "cell_type": "code",
   "execution_count": 38,
   "metadata": {},
   "outputs": [],
   "source": [
    "# Compute class weights to handle class imbalance\n",
    "class_weights = class_weight.compute_class_weight('balanced', classes=np.unique(y_train), y=y_train)\n",
    "class_weights_dict = dict(enumerate(class_weights))\n",
    "\n"
   ]
  },
  {
   "cell_type": "code",
   "execution_count": 39,
   "metadata": {},
   "outputs": [],
   "source": [
    "# Tuning the neural network\n",
    "model = Sequential([\n",
    "    Input(shape=(X_train.shape[1],)),  # Define the input shape explicitly\n",
    "    Dense(128, activation='relu'),  # Increased number of neurons\n",
    "    Dropout(0.5),  # Regularization\n",
    "    Dense(64, activation='relu'),  # Increased number of neurons\n",
    "    Dropout(0.3),\n",
    "    Dense(len(np.unique(y)), activation='softmax')  # Output layer\n",
    "])\n",
    "\n"
   ]
  },
  {
   "cell_type": "code",
   "execution_count": 40,
   "metadata": {},
   "outputs": [],
   "source": [
    "# Compile the model\n",
    "model.compile(optimizer=Adam(learning_rate=0.001),\n",
    "              loss='sparse_categorical_crossentropy',  # Adjust loss for classification\n",
    "              metrics=['accuracy'])\n",
    "\n"
   ]
  },
  {
   "cell_type": "code",
   "execution_count": 41,
   "metadata": {},
   "outputs": [],
   "source": [
    "# Set up early stopping and learning rate reduction\n",
    "early_stopping = EarlyStopping(monitor='val_loss', patience=5, restore_best_weights=True)\n",
    "lr_reduction = ReduceLROnPlateau(monitor='val_loss', factor=0.2, patience=3, min_lr=0.00001)\n",
    "\n"
   ]
  },
  {
   "cell_type": "code",
   "execution_count": 48,
   "metadata": {},
   "outputs": [
    {
     "name": "stdout",
     "output_type": "stream",
     "text": [
      "Epoch 1/50\n",
      "130/130 - 2s - 13ms/step - accuracy: 0.8975 - loss: 3.4284 - val_accuracy: 0.9615 - val_loss: 0.8388\n",
      "Epoch 2/50\n",
      "130/130 - 0s - 2ms/step - accuracy: 0.9338 - loss: 1.0174 - val_accuracy: 0.9615 - val_loss: 0.3319\n",
      "Epoch 3/50\n",
      "130/130 - 0s - 3ms/step - accuracy: 0.9372 - loss: 0.5322 - val_accuracy: 0.9615 - val_loss: 0.1614\n",
      "Epoch 4/50\n",
      "130/130 - 0s - 3ms/step - accuracy: 0.9454 - loss: 0.3334 - val_accuracy: 0.9615 - val_loss: 0.1722\n",
      "Epoch 5/50\n",
      "130/130 - 0s - 3ms/step - accuracy: 0.9509 - loss: 0.2580 - val_accuracy: 0.9615 - val_loss: 0.1772\n",
      "Epoch 6/50\n",
      "130/130 - 0s - 3ms/step - accuracy: 0.9572 - loss: 0.2242 - val_accuracy: 0.9615 - val_loss: 0.2502\n",
      "Epoch 7/50\n",
      "130/130 - 1s - 4ms/step - accuracy: 0.9569 - loss: 0.2095 - val_accuracy: 0.9615 - val_loss: 0.2174\n",
      "Epoch 8/50\n",
      "130/130 - 0s - 4ms/step - accuracy: 0.9596 - loss: 0.2075 - val_accuracy: 0.9615 - val_loss: 0.2159\n",
      "Epoch 9/50\n",
      "130/130 - 0s - 3ms/step - accuracy: 0.9598 - loss: 0.1947 - val_accuracy: 0.9615 - val_loss: 0.2078\n",
      "Epoch 10/50\n",
      "130/130 - 0s - 3ms/step - accuracy: 0.9601 - loss: 0.1899 - val_accuracy: 0.9615 - val_loss: 0.1974\n",
      "Epoch 11/50\n",
      "130/130 - 0s - 3ms/step - accuracy: 0.9603 - loss: 0.1842 - val_accuracy: 0.9615 - val_loss: 0.1815\n",
      "Epoch 12/50\n",
      "130/130 - 0s - 3ms/step - accuracy: 0.9620 - loss: 0.1813 - val_accuracy: 0.9615 - val_loss: 0.1467\n",
      "Epoch 13/50\n",
      "130/130 - 1s - 5ms/step - accuracy: 0.9620 - loss: 0.1793 - val_accuracy: 0.9615 - val_loss: 0.1444\n",
      "Epoch 14/50\n",
      "130/130 - 0s - 3ms/step - accuracy: 0.9618 - loss: 0.1749 - val_accuracy: 0.9615 - val_loss: 0.1684\n",
      "Epoch 15/50\n",
      "130/130 - 0s - 3ms/step - accuracy: 0.9618 - loss: 0.1720 - val_accuracy: 0.9615 - val_loss: 0.1498\n",
      "Epoch 16/50\n",
      "130/130 - 0s - 3ms/step - accuracy: 0.9613 - loss: 0.1708 - val_accuracy: 0.9615 - val_loss: 0.1673\n",
      "Epoch 17/50\n",
      "130/130 - 0s - 3ms/step - accuracy: 0.9618 - loss: 0.1671 - val_accuracy: 0.9615 - val_loss: 0.1496\n",
      "Epoch 18/50\n",
      "130/130 - 0s - 3ms/step - accuracy: 0.9618 - loss: 0.1680 - val_accuracy: 0.9615 - val_loss: 0.1782\n",
      "Epoch 19/50\n",
      "130/130 - 0s - 3ms/step - accuracy: 0.9608 - loss: 0.1739 - val_accuracy: 0.9615 - val_loss: 0.1637\n",
      "Epoch 20/50\n",
      "130/130 - 0s - 2ms/step - accuracy: 0.9622 - loss: 0.1645 - val_accuracy: 0.9615 - val_loss: 0.1574\n",
      "Epoch 21/50\n",
      "130/130 - 0s - 3ms/step - accuracy: 0.9620 - loss: 0.1653 - val_accuracy: 0.9615 - val_loss: 0.1674\n",
      "Epoch 22/50\n",
      "130/130 - 0s - 2ms/step - accuracy: 0.9620 - loss: 0.1654 - val_accuracy: 0.9615 - val_loss: 0.1539\n",
      "Epoch 23/50\n",
      "130/130 - 0s - 3ms/step - accuracy: 0.9620 - loss: 0.1688 - val_accuracy: 0.9615 - val_loss: 0.1446\n",
      "Epoch 24/50\n",
      "130/130 - 0s - 3ms/step - accuracy: 0.9620 - loss: 0.1631 - val_accuracy: 0.9615 - val_loss: 0.1449\n",
      "Epoch 25/50\n",
      "130/130 - 0s - 3ms/step - accuracy: 0.9622 - loss: 0.1664 - val_accuracy: 0.9615 - val_loss: 0.1461\n",
      "Epoch 26/50\n",
      "130/130 - 0s - 3ms/step - accuracy: 0.9622 - loss: 0.1607 - val_accuracy: 0.9615 - val_loss: 0.1657\n",
      "Epoch 27/50\n",
      "130/130 - 0s - 3ms/step - accuracy: 0.9620 - loss: 0.1591 - val_accuracy: 0.9615 - val_loss: 0.1613\n",
      "Epoch 28/50\n",
      "130/130 - 0s - 2ms/step - accuracy: 0.9618 - loss: 0.1652 - val_accuracy: 0.9615 - val_loss: 0.1414\n",
      "Epoch 29/50\n",
      "130/130 - 1s - 5ms/step - accuracy: 0.9622 - loss: 0.1598 - val_accuracy: 0.9615 - val_loss: 0.1704\n",
      "Epoch 30/50\n",
      "130/130 - 1s - 4ms/step - accuracy: 0.9622 - loss: 0.1605 - val_accuracy: 0.9615 - val_loss: 0.1619\n",
      "Epoch 31/50\n",
      "130/130 - 0s - 3ms/step - accuracy: 0.9620 - loss: 0.1608 - val_accuracy: 0.9615 - val_loss: 0.1431\n",
      "Epoch 32/50\n",
      "130/130 - 0s - 3ms/step - accuracy: 0.9620 - loss: 0.1568 - val_accuracy: 0.9615 - val_loss: 0.1422\n",
      "Epoch 33/50\n",
      "130/130 - 0s - 3ms/step - accuracy: 0.9622 - loss: 0.1629 - val_accuracy: 0.9615 - val_loss: 0.1487\n",
      "Epoch 34/50\n",
      "130/130 - 0s - 3ms/step - accuracy: 0.9620 - loss: 0.1631 - val_accuracy: 0.9615 - val_loss: 0.1578\n",
      "Epoch 35/50\n",
      "130/130 - 0s - 3ms/step - accuracy: 0.9622 - loss: 0.1618 - val_accuracy: 0.9615 - val_loss: 0.1489\n",
      "Epoch 36/50\n",
      "130/130 - 0s - 3ms/step - accuracy: 0.9622 - loss: 0.1620 - val_accuracy: 0.9615 - val_loss: 0.1473\n",
      "Epoch 37/50\n",
      "130/130 - 0s - 3ms/step - accuracy: 0.9622 - loss: 0.1563 - val_accuracy: 0.9615 - val_loss: 0.1602\n",
      "Epoch 38/50\n",
      "130/130 - 0s - 3ms/step - accuracy: 0.9622 - loss: 0.1572 - val_accuracy: 0.9615 - val_loss: 0.1383\n",
      "Epoch 39/50\n",
      "130/130 - 0s - 3ms/step - accuracy: 0.9620 - loss: 0.1616 - val_accuracy: 0.9615 - val_loss: 0.1408\n",
      "Epoch 40/50\n",
      "130/130 - 0s - 3ms/step - accuracy: 0.9622 - loss: 0.1563 - val_accuracy: 0.9615 - val_loss: 0.1464\n",
      "Epoch 41/50\n",
      "130/130 - 1s - 4ms/step - accuracy: 0.9622 - loss: 0.1558 - val_accuracy: 0.9615 - val_loss: 0.1458\n",
      "Epoch 42/50\n",
      "130/130 - 0s - 3ms/step - accuracy: 0.9620 - loss: 0.1546 - val_accuracy: 0.9615 - val_loss: 0.1398\n",
      "Epoch 43/50\n",
      "130/130 - 0s - 3ms/step - accuracy: 0.9622 - loss: 0.1574 - val_accuracy: 0.9615 - val_loss: 0.1438\n",
      "Epoch 44/50\n",
      "130/130 - 0s - 3ms/step - accuracy: 0.9622 - loss: 0.1553 - val_accuracy: 0.9615 - val_loss: 0.1487\n",
      "Epoch 45/50\n",
      "130/130 - 0s - 3ms/step - accuracy: 0.9622 - loss: 0.1530 - val_accuracy: 0.9615 - val_loss: 0.1365\n",
      "Epoch 46/50\n",
      "130/130 - 0s - 3ms/step - accuracy: 0.9620 - loss: 0.1562 - val_accuracy: 0.9615 - val_loss: 0.1369\n",
      "Epoch 47/50\n",
      "130/130 - 0s - 3ms/step - accuracy: 0.9622 - loss: 0.1496 - val_accuracy: 0.9615 - val_loss: 0.1363\n",
      "Epoch 48/50\n",
      "130/130 - 0s - 3ms/step - accuracy: 0.9622 - loss: 0.1560 - val_accuracy: 0.9615 - val_loss: 0.1505\n",
      "Epoch 49/50\n",
      "130/130 - 0s - 3ms/step - accuracy: 0.9622 - loss: 0.1543 - val_accuracy: 0.9615 - val_loss: 0.1413\n",
      "Epoch 50/50\n",
      "130/130 - 0s - 3ms/step - accuracy: 0.9622 - loss: 0.1547 - val_accuracy: 0.9615 - val_loss: 0.1472\n"
     ]
    },
    {
     "data": {
      "text/plain": [
       "<keras.src.callbacks.history.History at 0x1abdbced520>"
      ]
     },
     "execution_count": 48,
     "metadata": {},
     "output_type": "execute_result"
    }
   ],
   "source": [
    "# Train the model with class weights and callbacks\n",
    "model.fit(X_train, y_train, epochs=50, batch_size=32, validation_split=0.2, verbose=2)"
   ]
  },
  {
   "cell_type": "code",
   "execution_count": 47,
   "metadata": {},
   "outputs": [
    {
     "name": "stdout",
     "output_type": "stream",
     "text": [
      "\u001b[1m41/41\u001b[0m \u001b[32m━━━━━━━━━━━━━━━━━━━━\u001b[0m\u001b[37m\u001b[0m \u001b[1m0s\u001b[0m 2ms/step\n"
     ]
    }
   ],
   "source": [
    "# Make predictions\n",
    "y_pred = np.argmax(model.predict(X_test_scaled), axis=-1)\n"
   ]
  },
  {
   "cell_type": "code",
   "execution_count": 49,
   "metadata": {},
   "outputs": [
    {
     "name": "stdout",
     "output_type": "stream",
     "text": [
      "\n",
      "Classification Report:\n",
      "              precision    recall  f1-score   support\n",
      "\n",
      "           0       0.98      0.17      0.29      1251\n",
      "           1       0.04      0.90      0.08        49\n",
      "\n",
      "    accuracy                           0.20      1300\n",
      "   macro avg       0.51      0.53      0.18      1300\n",
      "weighted avg       0.94      0.20      0.28      1300\n",
      "\n"
     ]
    }
   ],
   "source": [
    "print(\"\\nClassification Report:\")\n",
    "print(classification_report(y_test, y_pred))\n"
   ]
  },
  {
   "cell_type": "markdown",
   "metadata": {},
   "source": [
    "After tuning, the performance has improved but still weaker than the SVM model."
   ]
  },
  {
   "cell_type": "code",
   "execution_count": null,
   "metadata": {},
   "outputs": [],
   "source": []
  },
  {
   "cell_type": "markdown",
   "metadata": {},
   "source": [
    "### Conclusions\n"
   ]
  },
  {
   "cell_type": "markdown",
   "metadata": {},
   "source": [
    "In conclusion the SVM model seems to be performing better than the nueral network. "
   ]
  },
  {
   "cell_type": "markdown",
   "metadata": {},
   "source": [
    "###  References\n",
    "   - Academic (if any)\n",
    "   - Online (if any)\n",
    "\t"
   ]
  },
  {
   "cell_type": "markdown",
   "metadata": {},
   "source": [
    "# None"
   ]
  },
  {
   "cell_type": "markdown",
   "metadata": {},
   "source": [
    "### Credits\n",
    "\n",
    "- If you use and/or adapt your code from existing projects, you must provide links and acknowldge the authors. \n",
    "> *This code is based on .... (if any)*"
   ]
  },
  {
   "cell_type": "code",
   "execution_count": null,
   "metadata": {},
   "outputs": [],
   "source": []
  },
  {
   "cell_type": "code",
   "execution_count": 23,
   "metadata": {},
   "outputs": [],
   "source": [
    "# End of Project"
   ]
  }
 ],
 "metadata": {
  "kernelspec": {
   "display_name": "Python 3 (ipykernel)",
   "language": "python",
   "name": "python3"
  },
  "language_info": {
   "codemirror_mode": {
    "name": "ipython",
    "version": 3
   },
   "file_extension": ".py",
   "mimetype": "text/x-python",
   "name": "python",
   "nbconvert_exporter": "python",
   "pygments_lexer": "ipython3",
   "version": "3.9.12"
  },
  "toc": {
   "base_numbering": 1,
   "nav_menu": {},
   "number_sections": true,
   "sideBar": true,
   "skip_h1_title": false,
   "title_cell": "Table of Contents",
   "title_sidebar": "Contents",
   "toc_cell": false,
   "toc_position": {},
   "toc_section_display": true,
   "toc_window_display": false
  },
  "varInspector": {
   "cols": {
    "lenName": 16,
    "lenType": 16,
    "lenVar": 40
   },
   "kernels_config": {
    "python": {
     "delete_cmd_postfix": "",
     "delete_cmd_prefix": "del ",
     "library": "var_list.py",
     "varRefreshCmd": "print(var_dic_list())"
    },
    "r": {
     "delete_cmd_postfix": ") ",
     "delete_cmd_prefix": "rm(",
     "library": "var_list.r",
     "varRefreshCmd": "cat(var_dic_list()) "
    }
   },
   "types_to_exclude": [
    "module",
    "function",
    "builtin_function_or_method",
    "instance",
    "_Feature"
   ],
   "window_display": true
  }
 },
 "nbformat": 4,
 "nbformat_minor": 4
}
